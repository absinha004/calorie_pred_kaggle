{
 "cells": [
  {
   "cell_type": "code",
   "execution_count": 1,
   "id": "0b76491c",
   "metadata": {
    "_cell_guid": "b1076dfc-b9ad-4769-8c92-a6c4dae69d19",
    "_uuid": "8f2839f25d086af736a60e9eeb907d3b93b6e0e5",
    "execution": {
     "iopub.execute_input": "2025-05-31T09:21:42.499940Z",
     "iopub.status.busy": "2025-05-31T09:21:42.499022Z",
     "iopub.status.idle": "2025-05-31T09:21:53.935042Z",
     "shell.execute_reply": "2025-05-31T09:21:53.934448Z"
    },
    "papermill": {
     "duration": 11.441444,
     "end_time": "2025-05-31T09:21:53.936400",
     "exception": false,
     "start_time": "2025-05-31T09:21:42.494956",
     "status": "completed"
    },
    "tags": []
   },
   "outputs": [],
   "source": [
    "import pandas as pd\n",
    "import numpy as np\n",
    "import seaborn as sns\n",
    "import matplotlib.pyplot as plt\n",
    "from sklearn.model_selection import KFold\n",
    "from sklearn.preprocessing import StandardScaler, OneHotEncoder\n",
    "from sklearn.compose import ColumnTransformer\n",
    "from sklearn.pipeline import Pipeline\n",
    "from sklearn.metrics import mean_squared_log_error\n",
    "from lightgbm import LGBMRegressor\n",
    "import warnings"
   ]
  },
  {
   "cell_type": "code",
   "execution_count": 2,
   "id": "e66099ef",
   "metadata": {
    "execution": {
     "iopub.execute_input": "2025-05-31T09:21:53.942909Z",
     "iopub.status.busy": "2025-05-31T09:21:53.942441Z",
     "iopub.status.idle": "2025-05-31T09:21:55.323332Z",
     "shell.execute_reply": "2025-05-31T09:21:55.322215Z"
    },
    "papermill": {
     "duration": 1.385516,
     "end_time": "2025-05-31T09:21:55.324901",
     "exception": false,
     "start_time": "2025-05-31T09:21:53.939385",
     "status": "completed"
    },
    "tags": []
   },
   "outputs": [
    {
     "name": "stdout",
     "output_type": "stream",
     "text": [
      "Data loaded successfully!\n",
      "Train data shape: (750000, 9)\n",
      "Test data shape: (250000, 8)\n"
     ]
    }
   ],
   "source": [
    "train_df = pd.read_csv('/kaggle/input/playground-series-s5e5/train.csv')\n",
    "test_df = pd.read_csv('/kaggle/input/playground-series-s5e5/test.csv')\n",
    "sample_submission = pd.read_csv('/kaggle/input/playground-series-s5e5/sample_submission.csv')\n",
    "print(\"Data loaded successfully!\")\n",
    "print(f\"Train data shape: {train_df.shape}\")\n",
    "print(f\"Test data shape: {test_df.shape}\")"
   ]
  },
  {
   "cell_type": "code",
   "execution_count": 3,
   "id": "ec5ba09f",
   "metadata": {
    "execution": {
     "iopub.execute_input": "2025-05-31T09:21:55.336317Z",
     "iopub.status.busy": "2025-05-31T09:21:55.335797Z",
     "iopub.status.idle": "2025-05-31T09:21:55.340733Z",
     "shell.execute_reply": "2025-05-31T09:21:55.340018Z"
    },
    "papermill": {
     "duration": 0.010073,
     "end_time": "2025-05-31T09:21:55.341880",
     "exception": false,
     "start_time": "2025-05-31T09:21:55.331807",
     "status": "completed"
    },
    "tags": []
   },
   "outputs": [],
   "source": [
    "def feature_engineer(df):\n",
    "    df_copy = df.copy()\n",
    "    df_copy['BMI'] = df_copy['Weight'] / ((df_copy['Height'] / 100)**2)\n",
    "\n",
    "    df_copy['Duration_HeartRate_Interaction'] = df_copy['Duration'] * df_copy['Heart_Rate']\n",
    "    df_copy['Duration_BodyTemp_Interaction'] = df_copy['Duration'] * df_copy['Body_Temp']\n",
    "    df_copy['HeartRate_BodyTemp_Interaction'] = df_copy['Heart_Rate'] * df_copy['Body_Temp']\n",
    "    df_copy['Age_Duration_Interaction'] = df_copy['Age'] * df_copy['Duration']\n",
    "\n",
    "    df_copy['Duration_sq'] = df_copy['Duration']**2\n",
    "    df_copy['Heart_Rate_sq'] = df_copy['Heart_Rate']**2\n",
    "    df_copy['Body_Temp_sq'] = df_copy['Body_Temp']**2\n",
    "    return df_copy"
   ]
  },
  {
   "cell_type": "code",
   "execution_count": 4,
   "id": "65a55475",
   "metadata": {
    "execution": {
     "iopub.execute_input": "2025-05-31T09:21:55.347975Z",
     "iopub.status.busy": "2025-05-31T09:21:55.347765Z",
     "iopub.status.idle": "2025-05-31T09:21:55.500381Z",
     "shell.execute_reply": "2025-05-31T09:21:55.499817Z"
    },
    "papermill": {
     "duration": 0.15732,
     "end_time": "2025-05-31T09:21:55.501754",
     "exception": false,
     "start_time": "2025-05-31T09:21:55.344434",
     "status": "completed"
    },
    "tags": []
   },
   "outputs": [],
   "source": [
    "train_df_fe = feature_engineer(train_df.copy())\n",
    "test_df_fe = feature_engineer(test_df.copy())"
   ]
  },
  {
   "cell_type": "code",
   "execution_count": 5,
   "id": "2b5a72be",
   "metadata": {
    "execution": {
     "iopub.execute_input": "2025-05-31T09:21:55.508108Z",
     "iopub.status.busy": "2025-05-31T09:21:55.507880Z",
     "iopub.status.idle": "2025-05-31T09:21:55.596590Z",
     "shell.execute_reply": "2025-05-31T09:21:55.595947Z"
    },
    "papermill": {
     "duration": 0.093341,
     "end_time": "2025-05-31T09:21:55.597932",
     "exception": false,
     "start_time": "2025-05-31T09:21:55.504591",
     "status": "completed"
    },
    "tags": []
   },
   "outputs": [],
   "source": [
    "X = train_df_fe.drop(['id', 'Calories'], axis=1)\n",
    "y = train_df_fe['Calories']\n",
    "X_test = test_df_fe.drop('id', axis=1)"
   ]
  },
  {
   "cell_type": "code",
   "execution_count": 6,
   "id": "ab029d02",
   "metadata": {
    "execution": {
     "iopub.execute_input": "2025-05-31T09:21:55.603999Z",
     "iopub.status.busy": "2025-05-31T09:21:55.603779Z",
     "iopub.status.idle": "2025-05-31T09:21:55.635394Z",
     "shell.execute_reply": "2025-05-31T09:21:55.634876Z"
    },
    "papermill": {
     "duration": 0.035716,
     "end_time": "2025-05-31T09:21:55.636401",
     "exception": false,
     "start_time": "2025-05-31T09:21:55.600685",
     "status": "completed"
    },
    "tags": []
   },
   "outputs": [],
   "source": [
    "train_cols = X.columns\n",
    "test_cols = X_test.columns\n",
    "\n",
    "missing_in_test = set(train_cols) - set(test_cols)\n",
    "for c in missing_in_test:\n",
    "    X_test[c] = 0\n",
    "\n",
    "missing_in_train = set(test_cols) - set(train_cols)\n",
    "for c in missing_in_train:\n",
    "    X[c] = 0\n",
    "\n",
    "X_test = X_test[train_cols]"
   ]
  },
  {
   "cell_type": "code",
   "execution_count": 7,
   "id": "c62632c6",
   "metadata": {
    "execution": {
     "iopub.execute_input": "2025-05-31T09:21:55.642651Z",
     "iopub.status.busy": "2025-05-31T09:21:55.642396Z",
     "iopub.status.idle": "2025-05-31T09:21:55.735056Z",
     "shell.execute_reply": "2025-05-31T09:21:55.734195Z"
    },
    "papermill": {
     "duration": 0.09741,
     "end_time": "2025-05-31T09:21:55.736572",
     "exception": false,
     "start_time": "2025-05-31T09:21:55.639162",
     "status": "completed"
    },
    "tags": []
   },
   "outputs": [],
   "source": [
    "numerical_cols = X.select_dtypes(include=np.number).columns.tolist()\n",
    "categorical_cols = X.select_dtypes(include='object').columns.tolist()"
   ]
  },
  {
   "cell_type": "code",
   "execution_count": 8,
   "id": "f64de33c",
   "metadata": {
    "execution": {
     "iopub.execute_input": "2025-05-31T09:21:55.742716Z",
     "iopub.status.busy": "2025-05-31T09:21:55.742479Z",
     "iopub.status.idle": "2025-05-31T09:21:55.746098Z",
     "shell.execute_reply": "2025-05-31T09:21:55.745562Z"
    },
    "papermill": {
     "duration": 0.007648,
     "end_time": "2025-05-31T09:21:55.747078",
     "exception": false,
     "start_time": "2025-05-31T09:21:55.739430",
     "status": "completed"
    },
    "tags": []
   },
   "outputs": [],
   "source": [
    "preprocessor = ColumnTransformer(\n",
    "    transformers=[\n",
    "        ('num', StandardScaler(), numerical_cols),\n",
    "        ('cat', OneHotEncoder(handle_unknown='ignore'), categorical_cols)\n",
    "    ],\n",
    "    remainder='passthrough'\n",
    ")"
   ]
  },
  {
   "cell_type": "code",
   "execution_count": 9,
   "id": "0c29e207",
   "metadata": {
    "execution": {
     "iopub.execute_input": "2025-05-31T09:21:55.752809Z",
     "iopub.status.busy": "2025-05-31T09:21:55.752345Z",
     "iopub.status.idle": "2025-05-31T09:21:55.760922Z",
     "shell.execute_reply": "2025-05-31T09:21:55.760250Z"
    },
    "papermill": {
     "duration": 0.012523,
     "end_time": "2025-05-31T09:21:55.762046",
     "exception": false,
     "start_time": "2025-05-31T09:21:55.749523",
     "status": "completed"
    },
    "tags": []
   },
   "outputs": [],
   "source": [
    "def rmsle(y_true, y_pred):\n",
    "    y_pred[y_pred < 0] = 0\n",
    "    return np.sqrt(mean_squared_log_error(y_true, y_pred))\n",
    "y_transformed = np.log1p(y)"
   ]
  },
  {
   "cell_type": "code",
   "execution_count": 10,
   "id": "a855ce6a",
   "metadata": {
    "execution": {
     "iopub.execute_input": "2025-05-31T09:21:55.768891Z",
     "iopub.status.busy": "2025-05-31T09:21:55.768689Z",
     "iopub.status.idle": "2025-05-31T09:21:56.746741Z",
     "shell.execute_reply": "2025-05-31T09:21:56.745972Z"
    },
    "papermill": {
     "duration": 0.98305,
     "end_time": "2025-05-31T09:21:56.748147",
     "exception": false,
     "start_time": "2025-05-31T09:21:55.765097",
     "status": "completed"
    },
    "tags": []
   },
   "outputs": [],
   "source": [
    "from xgboost import XGBRegressor\n",
    "from catboost import CatBoostRegressor\n",
    "models = {\n",
    "    'LGBM': LGBMRegressor(random_state=42, n_estimators=1000, learning_rate=0.05, num_leaves=31, n_jobs=-1),\n",
    "    'XGBoost': XGBRegressor(random_state=42, n_estimators=1000, learning_rate=0.05, max_depth=6, n_jobs=-1, tree_method='hist'),\n",
    "    'CatBoost': CatBoostRegressor(random_state=42, n_estimators=1000, learning_rate=0.05, verbose=0)\n",
    "}\n"
   ]
  },
  {
   "cell_type": "code",
   "execution_count": 11,
   "id": "b2c06a36",
   "metadata": {
    "execution": {
     "iopub.execute_input": "2025-05-31T09:21:56.754499Z",
     "iopub.status.busy": "2025-05-31T09:21:56.754046Z",
     "iopub.status.idle": "2025-05-31T09:29:30.402480Z",
     "shell.execute_reply": "2025-05-31T09:29:30.401647Z"
    },
    "papermill": {
     "duration": 453.65345,
     "end_time": "2025-05-31T09:29:30.404267",
     "exception": false,
     "start_time": "2025-05-31T09:21:56.750817",
     "status": "completed"
    },
    "tags": []
   },
   "outputs": [
    {
     "name": "stdout",
     "output_type": "stream",
     "text": [
      "[LightGBM] [Info] Auto-choosing col-wise multi-threading, the overhead of testing was 0.042128 seconds.\n",
      "You can set `force_col_wise=true` to remove the overhead.\n",
      "[LightGBM] [Info] Total Bins 1760\n",
      "[LightGBM] [Info] Number of data points in the train set: 600000, number of used features: 16\n",
      "[LightGBM] [Info] Start training from score 4.141163\n",
      "[LightGBM] [Info] Auto-choosing col-wise multi-threading, the overhead of testing was 0.039204 seconds.\n",
      "You can set `force_col_wise=true` to remove the overhead.\n",
      "[LightGBM] [Info] Total Bins 1765\n",
      "[LightGBM] [Info] Number of data points in the train set: 600000, number of used features: 16\n",
      "[LightGBM] [Info] Start training from score 4.141466\n",
      "[LightGBM] [Info] Auto-choosing col-wise multi-threading, the overhead of testing was 0.041340 seconds.\n",
      "You can set `force_col_wise=true` to remove the overhead.\n",
      "[LightGBM] [Info] Total Bins 1760\n",
      "[LightGBM] [Info] Number of data points in the train set: 600000, number of used features: 16\n",
      "[LightGBM] [Info] Start training from score 4.140724\n",
      "[LightGBM] [Info] Auto-choosing col-wise multi-threading, the overhead of testing was 0.038679 seconds.\n",
      "You can set `force_col_wise=true` to remove the overhead.\n",
      "[LightGBM] [Info] Total Bins 1762\n",
      "[LightGBM] [Info] Number of data points in the train set: 600000, number of used features: 16\n",
      "[LightGBM] [Info] Start training from score 4.140493\n",
      "[LightGBM] [Info] Auto-choosing col-wise multi-threading, the overhead of testing was 0.074108 seconds.\n",
      "You can set `force_col_wise=true` to remove the overhead.\n",
      "[LightGBM] [Info] Total Bins 1760\n",
      "[LightGBM] [Info] Number of data points in the train set: 600000, number of used features: 16\n",
      "[LightGBM] [Info] Start training from score 4.141876\n"
     ]
    }
   ],
   "source": [
    "kf = KFold(n_splits=5, shuffle=True, random_state=42)\n",
    "\n",
    "oof_preds_dict = {name: np.zeros(len(X)) for name in models.keys()}\n",
    "test_preds_dict = {name: np.zeros(len(X_test)) for name in models.keys()}\n",
    "model_scores = {name: [] for name in models.keys()}\n",
    "for fold, (train_index, val_index) in enumerate(kf.split(X, y_transformed)):\n",
    "    X_train, X_val = X.iloc[train_index], X.iloc[val_index]\n",
    "    y_train, y_val = y_transformed.iloc[train_index], y_transformed.iloc[val_index]\n",
    "\n",
    "    for model_name, model_instance in models.items():\n",
    "        if model_name == 'CatBoost':\n",
    "            catboost_preprocessor = ColumnTransformer(\n",
    "                transformers=[\n",
    "                    ('num', StandardScaler(), numerical_cols),\n",
    "                ],\n",
    "                remainder='passthrough'\n",
    "            )\n",
    "\n",
    "            X_train_transformed = catboost_preprocessor.fit_transform(X_train)\n",
    "            X_val_transformed = catboost_preprocessor.transform(X_val)\n",
    "\n",
    "            cat_feature_indices_for_catboost = []\n",
    "            if 'Sex' in categorical_cols:\n",
    "                cat_feature_indices_for_catboost.append(len(numerical_cols))\n",
    "\n",
    "            model_instance.fit(X_train_transformed, y_train, cat_features=cat_feature_indices_for_catboost)\n",
    "\n",
    "            val_preds_transformed = model_instance.predict(X_val_transformed)\n",
    "            oof_preds_dict[model_name][val_index] = val_preds_transformed\n",
    "\n",
    "            test_fold_preds_transformed = model_instance.predict(catboost_preprocessor.transform(X_test))\n",
    "            test_preds_dict[model_name] += test_fold_preds_transformed / kf.n_splits\n",
    "\n",
    "        else:\n",
    "            lgbm_xgb_preprocessor = ColumnTransformer(\n",
    "                transformers=[\n",
    "                    ('num', StandardScaler(), numerical_cols),\n",
    "                    ('cat', OneHotEncoder(handle_unknown='ignore'), categorical_cols) # Keep OneHotEncoder for LGBM/XGBoost\n",
    "                ],\n",
    "                remainder='passthrough'\n",
    "            )\n",
    "            current_pipeline = Pipeline(steps=[\n",
    "                ('preprocessor', lgbm_xgb_preprocessor),\n",
    "                ('regressor', model_instance)\n",
    "            ])\n",
    "            current_pipeline.fit(X_train, y_train)\n",
    "\n",
    "            val_preds_transformed = current_pipeline.predict(X_val)\n",
    "            oof_preds_dict[model_name][val_index] = val_preds_transformed\n",
    "\n",
    "            test_fold_preds_transformed = current_pipeline.predict(X_test)\n",
    "            test_preds_dict[model_name] += test_fold_preds_transformed / kf.n_splits\n",
    "\n",
    "        val_preds_actual = np.expm1(val_preds_transformed)\n",
    "        y_val_actual = np.expm1(y_val)\n",
    "        val_preds_actual[val_preds_actual < 0] = 0\n",
    "\n",
    "        fold_score = rmsle(y_val_actual, val_preds_actual)\n",
    "        model_scores[model_name].append(fold_score)\n"
   ]
  },
  {
   "cell_type": "code",
   "execution_count": 12,
   "id": "db35bf70",
   "metadata": {
    "execution": {
     "iopub.execute_input": "2025-05-31T09:29:30.413059Z",
     "iopub.status.busy": "2025-05-31T09:29:30.412819Z",
     "iopub.status.idle": "2025-05-31T09:29:30.417715Z",
     "shell.execute_reply": "2025-05-31T09:29:30.416967Z"
    },
    "papermill": {
     "duration": 0.010222,
     "end_time": "2025-05-31T09:29:30.418814",
     "exception": false,
     "start_time": "2025-05-31T09:29:30.408592",
     "status": "completed"
    },
    "tags": []
   },
   "outputs": [
    {
     "name": "stdout",
     "output_type": "stream",
     "text": [
      "\n",
      "--- Individual Model Average RMSLE Scores ---\n",
      "  LGBM: 0.06027 +/- 0.00020\n",
      "  XGBoost: 0.06021 +/- 0.00014\n",
      "  CatBoost: 0.05999 +/- 0.00024\n"
     ]
    }
   ],
   "source": [
    "print(\"\\n--- Individual Model Average RMSLE Scores ---\")\n",
    "average_scores = {}\n",
    "for name, scores in model_scores.items():\n",
    "    avg_score = np.mean(scores)\n",
    "    std_score = np.std(scores)\n",
    "    average_scores[name] = avg_score\n",
    "    print(f\"  {name}: {avg_score:.5f} +/- {std_score:.5f}\")"
   ]
  },
  {
   "cell_type": "code",
   "execution_count": 13,
   "id": "6fa265d3",
   "metadata": {
    "execution": {
     "iopub.execute_input": "2025-05-31T09:29:30.425205Z",
     "iopub.status.busy": "2025-05-31T09:29:30.424827Z",
     "iopub.status.idle": "2025-05-31T09:29:30.429625Z",
     "shell.execute_reply": "2025-05-31T09:29:30.428711Z"
    },
    "papermill": {
     "duration": 0.009126,
     "end_time": "2025-05-31T09:29:30.430713",
     "exception": false,
     "start_time": "2025-05-31T09:29:30.421587",
     "status": "completed"
    },
    "tags": []
   },
   "outputs": [
    {
     "name": "stdout",
     "output_type": "stream",
     "text": [
      "\n",
      "--- Ensemble Weights ---\n",
      "  LGBM: 0.3327\n",
      "  XGBoost: 0.3330\n",
      "  CatBoost: 0.3343\n"
     ]
    }
   ],
   "source": [
    "total_inverse_score = sum(1/score for score in average_scores.values())\n",
    "weights = {name: (1/score) / total_inverse_score for name, score in average_scores.items()}\n",
    "\n",
    "print(\"\\n--- Ensemble Weights ---\")\n",
    "for name, weight in weights.items():\n",
    "    print(f\"  {name}: {weight:.4f}\")"
   ]
  },
  {
   "cell_type": "code",
   "execution_count": 14,
   "id": "8d792560",
   "metadata": {
    "execution": {
     "iopub.execute_input": "2025-05-31T09:29:30.436893Z",
     "iopub.status.busy": "2025-05-31T09:29:30.436705Z",
     "iopub.status.idle": "2025-05-31T09:29:30.442124Z",
     "shell.execute_reply": "2025-05-31T09:29:30.441612Z"
    },
    "papermill": {
     "duration": 0.009665,
     "end_time": "2025-05-31T09:29:30.443132",
     "exception": false,
     "start_time": "2025-05-31T09:29:30.433467",
     "status": "completed"
    },
    "tags": []
   },
   "outputs": [],
   "source": [
    "final_ensemble_test_preds_transformed = np.zeros(len(X_test))\n",
    "for model_name, weight in weights.items():\n",
    "    final_ensemble_test_preds_transformed += test_preds_dict[model_name] * weight\n",
    "\n",
    "final_ensemble_predictions = np.expm1(final_ensemble_test_preds_transformed)\n",
    "final_ensemble_predictions[final_ensemble_predictions < 0] = 0"
   ]
  },
  {
   "cell_type": "code",
   "execution_count": 15,
   "id": "c574d337",
   "metadata": {
    "execution": {
     "iopub.execute_input": "2025-05-31T09:29:30.449703Z",
     "iopub.status.busy": "2025-05-31T09:29:30.449202Z",
     "iopub.status.idle": "2025-05-31T09:29:30.950882Z",
     "shell.execute_reply": "2025-05-31T09:29:30.949905Z"
    },
    "papermill": {
     "duration": 0.506263,
     "end_time": "2025-05-31T09:29:30.952244",
     "exception": false,
     "start_time": "2025-05-31T09:29:30.445981",
     "status": "completed"
    },
    "tags": []
   },
   "outputs": [
    {
     "name": "stdout",
     "output_type": "stream",
     "text": [
      "\n",
      "Overall Ensemble OOF RMSLE: 0.05951\n",
      "\n",
      "Submission file 'submission.csv' created successfully!\n",
      "       id    Calories\n",
      "0  750000   27.412745\n",
      "1  750001  108.022242\n",
      "2  750002   87.190516\n",
      "3  750003  125.665365\n",
      "4  750004   76.022609\n"
     ]
    }
   ],
   "source": [
    "ensemble_oof_preds_transformed = np.zeros(len(X))\n",
    "for model_name, weight in weights.items():\n",
    "    ensemble_oof_preds_transformed += oof_preds_dict[model_name] * weight\n",
    "\n",
    "ensemble_oof_preds_actual = np.expm1(ensemble_oof_preds_transformed)\n",
    "ensemble_oof_preds_actual[ensemble_oof_preds_actual < 0] = 0\n",
    "overall_ensemble_rmsle = rmsle(y, ensemble_oof_preds_actual)\n",
    "print(f\"\\nOverall Ensemble OOF RMSLE: {overall_ensemble_rmsle:.5f}\")\n",
    "submission_df = pd.DataFrame({'id': test_df['id'], 'Calories': final_ensemble_predictions})\n",
    "submission_df.to_csv('submission.csv', index=False)\n",
    "\n",
    "print(\"\\nSubmission file 'submission.csv' created successfully!\")\n",
    "print(submission_df.head())"
   ]
  }
 ],
 "metadata": {
  "kaggle": {
   "accelerator": "nvidiaTeslaT4",
   "dataSources": [
    {
     "databundleVersionId": 11893428,
     "sourceId": 91716,
     "sourceType": "competition"
    }
   ],
   "dockerImageVersionId": 31041,
   "isGpuEnabled": true,
   "isInternetEnabled": true,
   "language": "python",
   "sourceType": "notebook"
  },
  "kernelspec": {
   "display_name": "Python 3",
   "language": "python",
   "name": "python3"
  },
  "language_info": {
   "codemirror_mode": {
    "name": "ipython",
    "version": 3
   },
   "file_extension": ".py",
   "mimetype": "text/x-python",
   "name": "python",
   "nbconvert_exporter": "python",
   "pygments_lexer": "ipython3",
   "version": "3.11.11"
  },
  "papermill": {
   "default_parameters": {},
   "duration": 475.504493,
   "end_time": "2025-05-31T09:29:32.175530",
   "environment_variables": {},
   "exception": null,
   "input_path": "__notebook__.ipynb",
   "output_path": "__notebook__.ipynb",
   "parameters": {},
   "start_time": "2025-05-31T09:21:36.671037",
   "version": "2.6.0"
  }
 },
 "nbformat": 4,
 "nbformat_minor": 5
}
