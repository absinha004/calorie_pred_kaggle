{
 "cells": [
  {
   "cell_type": "code",
   "execution_count": 1,
   "id": "bbf0f6bd",
   "metadata": {
    "_cell_guid": "b1076dfc-b9ad-4769-8c92-a6c4dae69d19",
    "_uuid": "8f2839f25d086af736a60e9eeb907d3b93b6e0e5",
    "execution": {
     "iopub.execute_input": "2025-05-31T08:25:45.795710Z",
     "iopub.status.busy": "2025-05-31T08:25:45.795307Z",
     "iopub.status.idle": "2025-05-31T08:25:56.047899Z",
     "shell.execute_reply": "2025-05-31T08:25:56.046807Z"
    },
    "papermill": {
     "duration": 10.260621,
     "end_time": "2025-05-31T08:25:56.049778",
     "exception": false,
     "start_time": "2025-05-31T08:25:45.789157",
     "status": "completed"
    },
    "tags": []
   },
   "outputs": [],
   "source": [
    "import pandas as pd\n",
    "import numpy as np\n",
    "import seaborn as sns\n",
    "import matplotlib.pyplot as plt\n",
    "from sklearn.model_selection import KFold\n",
    "from sklearn.preprocessing import StandardScaler, OneHotEncoder\n",
    "from sklearn.compose import ColumnTransformer\n",
    "from sklearn.pipeline import Pipeline\n",
    "from sklearn.metrics import mean_squared_log_error\n",
    "from lightgbm import LGBMRegressor\n",
    "import warnings"
   ]
  },
  {
   "cell_type": "code",
   "execution_count": 2,
   "id": "6f4ebb91",
   "metadata": {
    "execution": {
     "iopub.execute_input": "2025-05-31T08:25:56.059211Z",
     "iopub.status.busy": "2025-05-31T08:25:56.058594Z",
     "iopub.status.idle": "2025-05-31T08:25:57.588496Z",
     "shell.execute_reply": "2025-05-31T08:25:57.587518Z"
    },
    "papermill": {
     "duration": 1.536319,
     "end_time": "2025-05-31T08:25:57.590250",
     "exception": false,
     "start_time": "2025-05-31T08:25:56.053931",
     "status": "completed"
    },
    "tags": []
   },
   "outputs": [
    {
     "name": "stdout",
     "output_type": "stream",
     "text": [
      "Data loaded successfully!\n",
      "Train data shape: (750000, 9)\n",
      "Test data shape: (250000, 8)\n"
     ]
    }
   ],
   "source": [
    "train_df = pd.read_csv('/kaggle/input/playground-series-s5e5/train.csv')\n",
    "test_df = pd.read_csv('/kaggle/input/playground-series-s5e5/test.csv')\n",
    "sample_submission = pd.read_csv('/kaggle/input/playground-series-s5e5/sample_submission.csv')\n",
    "print(\"Data loaded successfully!\")\n",
    "print(f\"Train data shape: {train_df.shape}\")\n",
    "print(f\"Test data shape: {test_df.shape}\")"
   ]
  },
  {
   "cell_type": "code",
   "execution_count": 3,
   "id": "f0d5bf4f",
   "metadata": {
    "execution": {
     "iopub.execute_input": "2025-05-31T08:25:57.603238Z",
     "iopub.status.busy": "2025-05-31T08:25:57.602925Z",
     "iopub.status.idle": "2025-05-31T08:25:57.713517Z",
     "shell.execute_reply": "2025-05-31T08:25:57.712446Z"
    },
    "papermill": {
     "duration": 0.11735,
     "end_time": "2025-05-31T08:25:57.715038",
     "exception": false,
     "start_time": "2025-05-31T08:25:57.597688",
     "status": "completed"
    },
    "tags": []
   },
   "outputs": [
    {
     "name": "stdout",
     "output_type": "stream",
     "text": [
      "<class 'pandas.core.frame.DataFrame'>\n",
      "RangeIndex: 750000 entries, 0 to 749999\n",
      "Data columns (total 9 columns):\n",
      " #   Column      Non-Null Count   Dtype  \n",
      "---  ------      --------------   -----  \n",
      " 0   id          750000 non-null  int64  \n",
      " 1   Sex         750000 non-null  object \n",
      " 2   Age         750000 non-null  int64  \n",
      " 3   Height      750000 non-null  float64\n",
      " 4   Weight      750000 non-null  float64\n",
      " 5   Duration    750000 non-null  float64\n",
      " 6   Heart_Rate  750000 non-null  float64\n",
      " 7   Body_Temp   750000 non-null  float64\n",
      " 8   Calories    750000 non-null  float64\n",
      "dtypes: float64(6), int64(2), object(1)\n",
      "memory usage: 51.5+ MB\n",
      "<class 'pandas.core.frame.DataFrame'>\n",
      "RangeIndex: 250000 entries, 0 to 249999\n",
      "Data columns (total 8 columns):\n",
      " #   Column      Non-Null Count   Dtype  \n",
      "---  ------      --------------   -----  \n",
      " 0   id          250000 non-null  int64  \n",
      " 1   Sex         250000 non-null  object \n",
      " 2   Age         250000 non-null  int64  \n",
      " 3   Height      250000 non-null  float64\n",
      " 4   Weight      250000 non-null  float64\n",
      " 5   Duration    250000 non-null  float64\n",
      " 6   Heart_Rate  250000 non-null  float64\n",
      " 7   Body_Temp   250000 non-null  float64\n",
      "dtypes: float64(5), int64(2), object(1)\n",
      "memory usage: 15.3+ MB\n"
     ]
    }
   ],
   "source": [
    "train_df.info()\n",
    "test_df.info()"
   ]
  },
  {
   "cell_type": "code",
   "execution_count": 4,
   "id": "8c1a5c6f",
   "metadata": {
    "execution": {
     "iopub.execute_input": "2025-05-31T08:25:57.724339Z",
     "iopub.status.busy": "2025-05-31T08:25:57.724051Z",
     "iopub.status.idle": "2025-05-31T08:25:57.740100Z",
     "shell.execute_reply": "2025-05-31T08:25:57.739021Z"
    },
    "papermill": {
     "duration": 0.022789,
     "end_time": "2025-05-31T08:25:57.741886",
     "exception": false,
     "start_time": "2025-05-31T08:25:57.719097",
     "status": "completed"
    },
    "tags": []
   },
   "outputs": [
    {
     "name": "stdout",
     "output_type": "stream",
     "text": [
      "   id     Sex  Age  Height  Weight  Duration  Heart_Rate  Body_Temp  Calories\n",
      "0   0    male   36   189.0    82.0      26.0       101.0       41.0     150.0\n",
      "1   1  female   64   163.0    60.0       8.0        85.0       39.7      34.0\n",
      "2   2  female   51   161.0    64.0       7.0        84.0       39.8      29.0\n",
      "3   3    male   20   192.0    90.0      25.0       105.0       40.7     140.0\n",
      "4   4  female   38   166.0    61.0      25.0       102.0       40.6     146.0\n",
      "       id     Sex  Age  Height  Weight  Duration  Heart_Rate  Body_Temp\n",
      "0  750000    male   45   177.0    81.0       7.0        87.0       39.8\n",
      "1  750001    male   26   200.0    97.0      20.0       101.0       40.5\n",
      "2  750002  female   29   188.0    85.0      16.0       102.0       40.4\n",
      "3  750003  female   39   172.0    73.0      20.0       107.0       40.6\n",
      "4  750004  female   30   173.0    67.0      16.0        94.0       40.5\n"
     ]
    }
   ],
   "source": [
    "print(train_df.head())\n",
    "print(test_df.head())"
   ]
  },
  {
   "cell_type": "code",
   "execution_count": 5,
   "id": "21ae79e9",
   "metadata": {
    "execution": {
     "iopub.execute_input": "2025-05-31T08:25:57.751106Z",
     "iopub.status.busy": "2025-05-31T08:25:57.750822Z",
     "iopub.status.idle": "2025-05-31T08:25:57.832754Z",
     "shell.execute_reply": "2025-05-31T08:25:57.831325Z"
    },
    "papermill": {
     "duration": 0.088406,
     "end_time": "2025-05-31T08:25:57.834466",
     "exception": false,
     "start_time": "2025-05-31T08:25:57.746060",
     "status": "completed"
    },
    "tags": []
   },
   "outputs": [
    {
     "name": "stdout",
     "output_type": "stream",
     "text": [
      "id            0\n",
      "Sex           0\n",
      "Age           0\n",
      "Height        0\n",
      "Weight        0\n",
      "Duration      0\n",
      "Heart_Rate    0\n",
      "Body_Temp     0\n",
      "Calories      0\n",
      "dtype: int64\n",
      "id            0\n",
      "Sex           0\n",
      "Age           0\n",
      "Height        0\n",
      "Weight        0\n",
      "Duration      0\n",
      "Heart_Rate    0\n",
      "Body_Temp     0\n",
      "dtype: int64\n"
     ]
    }
   ],
   "source": [
    "print(train_df.isnull().sum())\n",
    "print(test_df.isnull().sum())"
   ]
  },
  {
   "cell_type": "code",
   "execution_count": 6,
   "id": "3a2e5e7e",
   "metadata": {
    "execution": {
     "iopub.execute_input": "2025-05-31T08:25:57.843745Z",
     "iopub.status.busy": "2025-05-31T08:25:57.843355Z",
     "iopub.status.idle": "2025-05-31T08:25:57.849579Z",
     "shell.execute_reply": "2025-05-31T08:25:57.848508Z"
    },
    "papermill": {
     "duration": 0.012552,
     "end_time": "2025-05-31T08:25:57.851115",
     "exception": false,
     "start_time": "2025-05-31T08:25:57.838563",
     "status": "completed"
    },
    "tags": []
   },
   "outputs": [],
   "source": [
    "def feature_engineer(df):\n",
    "    df_copy = df.copy()\n",
    "    df_copy['BMI'] = df_copy['Weight'] / ((df_copy['Height'] / 100)**2)\n",
    "\n",
    "    df_copy['Duration_HeartRate_Interaction'] = df_copy['Duration'] * df_copy['Heart_Rate']\n",
    "    df_copy['Duration_BodyTemp_Interaction'] = df_copy['Duration'] * df_copy['Body_Temp']\n",
    "    df_copy['HeartRate_BodyTemp_Interaction'] = df_copy['Heart_Rate'] * df_copy['Body_Temp']\n",
    "    df_copy['Age_Duration_Interaction'] = df_copy['Age'] * df_copy['Duration']\n",
    "\n",
    "    df_copy['Duration_sq'] = df_copy['Duration']**2\n",
    "    df_copy['Heart_Rate_sq'] = df_copy['Heart_Rate']**2\n",
    "    df_copy['Body_Temp_sq'] = df_copy['Body_Temp']**2\n",
    "    return df_copy"
   ]
  },
  {
   "cell_type": "code",
   "execution_count": 7,
   "id": "10e8f633",
   "metadata": {
    "execution": {
     "iopub.execute_input": "2025-05-31T08:25:57.860784Z",
     "iopub.status.busy": "2025-05-31T08:25:57.860456Z",
     "iopub.status.idle": "2025-05-31T08:25:58.014296Z",
     "shell.execute_reply": "2025-05-31T08:25:58.013520Z"
    },
    "papermill": {
     "duration": 0.1604,
     "end_time": "2025-05-31T08:25:58.015929",
     "exception": false,
     "start_time": "2025-05-31T08:25:57.855529",
     "status": "completed"
    },
    "tags": []
   },
   "outputs": [],
   "source": [
    "train_df_fe = feature_engineer(train_df.copy())\n",
    "test_df_fe = feature_engineer(test_df.copy())"
   ]
  },
  {
   "cell_type": "code",
   "execution_count": 8,
   "id": "59b413ee",
   "metadata": {
    "execution": {
     "iopub.execute_input": "2025-05-31T08:25:58.025501Z",
     "iopub.status.busy": "2025-05-31T08:25:58.024828Z",
     "iopub.status.idle": "2025-05-31T08:25:58.132775Z",
     "shell.execute_reply": "2025-05-31T08:25:58.130891Z"
    },
    "papermill": {
     "duration": 0.114836,
     "end_time": "2025-05-31T08:25:58.134830",
     "exception": false,
     "start_time": "2025-05-31T08:25:58.019994",
     "status": "completed"
    },
    "tags": []
   },
   "outputs": [],
   "source": [
    "X = train_df_fe.drop(['id', 'Calories'], axis=1)\n",
    "y = train_df_fe['Calories']\n",
    "X_test = test_df_fe.drop('id', axis=1)"
   ]
  },
  {
   "cell_type": "code",
   "execution_count": 9,
   "id": "e040bd53",
   "metadata": {
    "execution": {
     "iopub.execute_input": "2025-05-31T08:25:58.149663Z",
     "iopub.status.busy": "2025-05-31T08:25:58.148711Z",
     "iopub.status.idle": "2025-05-31T08:25:58.153656Z",
     "shell.execute_reply": "2025-05-31T08:25:58.152669Z"
    },
    "papermill": {
     "duration": 0.015446,
     "end_time": "2025-05-31T08:25:58.155686",
     "exception": false,
     "start_time": "2025-05-31T08:25:58.140240",
     "status": "completed"
    },
    "tags": []
   },
   "outputs": [],
   "source": [
    "train_cols = X.columns\n",
    "test_cols = X_test.columns"
   ]
  },
  {
   "cell_type": "code",
   "execution_count": 10,
   "id": "cd435c0f",
   "metadata": {
    "execution": {
     "iopub.execute_input": "2025-05-31T08:25:58.173366Z",
     "iopub.status.busy": "2025-05-31T08:25:58.173031Z",
     "iopub.status.idle": "2025-05-31T08:25:58.216704Z",
     "shell.execute_reply": "2025-05-31T08:25:58.215617Z"
    },
    "papermill": {
     "duration": 0.057125,
     "end_time": "2025-05-31T08:25:58.218410",
     "exception": false,
     "start_time": "2025-05-31T08:25:58.161285",
     "status": "completed"
    },
    "tags": []
   },
   "outputs": [],
   "source": [
    "missing_in_test = set(train_cols) - set(test_cols)\n",
    "for c in missing_in_test:\n",
    "    X_test[c] = 0\n",
    "missing_in_train = set(test_cols) - set(train_cols)\n",
    "for c in missing_in_train:\n",
    "    X[c] = 0\n",
    "X_test = X_test[train_cols]"
   ]
  },
  {
   "cell_type": "code",
   "execution_count": 11,
   "id": "d9d6cd9e",
   "metadata": {
    "execution": {
     "iopub.execute_input": "2025-05-31T08:25:58.228005Z",
     "iopub.status.busy": "2025-05-31T08:25:58.227434Z",
     "iopub.status.idle": "2025-05-31T08:25:58.233474Z",
     "shell.execute_reply": "2025-05-31T08:25:58.231954Z"
    },
    "papermill": {
     "duration": 0.012577,
     "end_time": "2025-05-31T08:25:58.235119",
     "exception": false,
     "start_time": "2025-05-31T08:25:58.222542",
     "status": "completed"
    },
    "tags": []
   },
   "outputs": [
    {
     "name": "stdout",
     "output_type": "stream",
     "text": [
      "\n",
      "Features after engineering and alignment: ['Sex', 'Age', 'Height', 'Weight', 'Duration', 'Heart_Rate', 'Body_Temp', 'BMI', 'Duration_HeartRate_Interaction', 'Duration_BodyTemp_Interaction', 'HeartRate_BodyTemp_Interaction', 'Age_Duration_Interaction', 'Duration_sq', 'Heart_Rate_sq', 'Body_Temp_sq']\n",
      "Number of features: 15\n"
     ]
    }
   ],
   "source": [
    "print(f\"\\nFeatures after engineering and alignment: {X.columns.tolist()}\")\n",
    "print(f\"Number of features: {len(X.columns)}\")"
   ]
  },
  {
   "cell_type": "code",
   "execution_count": 12,
   "id": "842e6c74",
   "metadata": {
    "execution": {
     "iopub.execute_input": "2025-05-31T08:25:58.244622Z",
     "iopub.status.busy": "2025-05-31T08:25:58.244239Z",
     "iopub.status.idle": "2025-05-31T08:25:58.369255Z",
     "shell.execute_reply": "2025-05-31T08:25:58.368196Z"
    },
    "papermill": {
     "duration": 0.131833,
     "end_time": "2025-05-31T08:25:58.371047",
     "exception": false,
     "start_time": "2025-05-31T08:25:58.239214",
     "status": "completed"
    },
    "tags": []
   },
   "outputs": [],
   "source": [
    "numerical_cols = X.select_dtypes(include=np.number).columns.tolist()\n",
    "categorical_cols = X.select_dtypes(include='object').columns.tolist()"
   ]
  },
  {
   "cell_type": "code",
   "execution_count": 13,
   "id": "138fb259",
   "metadata": {
    "execution": {
     "iopub.execute_input": "2025-05-31T08:25:58.380498Z",
     "iopub.status.busy": "2025-05-31T08:25:58.380128Z",
     "iopub.status.idle": "2025-05-31T08:25:58.384943Z",
     "shell.execute_reply": "2025-05-31T08:25:58.384225Z"
    },
    "papermill": {
     "duration": 0.010843,
     "end_time": "2025-05-31T08:25:58.386151",
     "exception": false,
     "start_time": "2025-05-31T08:25:58.375308",
     "status": "completed"
    },
    "tags": []
   },
   "outputs": [],
   "source": [
    "preprocessor = ColumnTransformer(\n",
    "transformers=[\n",
    "        ('num', StandardScaler(), numerical_cols),\n",
    "        ('cat', OneHotEncoder(handle_unknown='ignore'), categorical_cols)\n",
    "    ],\n",
    ")"
   ]
  },
  {
   "cell_type": "code",
   "execution_count": 14,
   "id": "b8176d52",
   "metadata": {
    "execution": {
     "iopub.execute_input": "2025-05-31T08:25:58.395568Z",
     "iopub.status.busy": "2025-05-31T08:25:58.395253Z",
     "iopub.status.idle": "2025-05-31T08:25:58.400222Z",
     "shell.execute_reply": "2025-05-31T08:25:58.399191Z"
    },
    "papermill": {
     "duration": 0.0114,
     "end_time": "2025-05-31T08:25:58.401684",
     "exception": false,
     "start_time": "2025-05-31T08:25:58.390284",
     "status": "completed"
    },
    "tags": []
   },
   "outputs": [],
   "source": [
    "def rmsle(y_true, y_pred):\n",
    "    y_pred[y_pred < 0] = 0\n",
    "    return np.sqrt(mean_squared_log_error(y_true, y_pred))"
   ]
  },
  {
   "cell_type": "code",
   "execution_count": 15,
   "id": "1eeec127",
   "metadata": {
    "execution": {
     "iopub.execute_input": "2025-05-31T08:25:58.410987Z",
     "iopub.status.busy": "2025-05-31T08:25:58.410685Z",
     "iopub.status.idle": "2025-05-31T08:25:58.415273Z",
     "shell.execute_reply": "2025-05-31T08:25:58.414460Z"
    },
    "papermill": {
     "duration": 0.011185,
     "end_time": "2025-05-31T08:25:58.416929",
     "exception": false,
     "start_time": "2025-05-31T08:25:58.405744",
     "status": "completed"
    },
    "tags": []
   },
   "outputs": [],
   "source": [
    "lgbm = LGBMRegressor(random_state=42, n_estimators=1000, learning_rate=0.05, num_leaves=31)\n",
    "model_pipeline = Pipeline(steps=[('preprocessor', preprocessor),\n",
    "                                 ('regressor', lgbm)])"
   ]
  },
  {
   "cell_type": "code",
   "execution_count": 16,
   "id": "250dc50e",
   "metadata": {
    "execution": {
     "iopub.execute_input": "2025-05-31T08:25:58.426184Z",
     "iopub.status.busy": "2025-05-31T08:25:58.425879Z",
     "iopub.status.idle": "2025-05-31T08:25:58.430248Z",
     "shell.execute_reply": "2025-05-31T08:25:58.429474Z"
    },
    "papermill": {
     "duration": 0.010504,
     "end_time": "2025-05-31T08:25:58.431606",
     "exception": false,
     "start_time": "2025-05-31T08:25:58.421102",
     "status": "completed"
    },
    "tags": []
   },
   "outputs": [],
   "source": [
    "kf = KFold(n_splits=5, shuffle=True, random_state=42)"
   ]
  },
  {
   "cell_type": "code",
   "execution_count": 17,
   "id": "9627aa82",
   "metadata": {
    "execution": {
     "iopub.execute_input": "2025-05-31T08:25:58.441097Z",
     "iopub.status.busy": "2025-05-31T08:25:58.440790Z",
     "iopub.status.idle": "2025-05-31T08:25:58.445866Z",
     "shell.execute_reply": "2025-05-31T08:25:58.445091Z"
    },
    "papermill": {
     "duration": 0.011472,
     "end_time": "2025-05-31T08:25:58.447236",
     "exception": false,
     "start_time": "2025-05-31T08:25:58.435764",
     "status": "completed"
    },
    "tags": []
   },
   "outputs": [],
   "source": [
    "oof_preds = np.zeros(len(X))\n",
    "test_preds = np.zeros(len(X_test))\n",
    "models = []"
   ]
  },
  {
   "cell_type": "code",
   "execution_count": 18,
   "id": "ed173149",
   "metadata": {
    "execution": {
     "iopub.execute_input": "2025-05-31T08:25:58.456296Z",
     "iopub.status.busy": "2025-05-31T08:25:58.456033Z",
     "iopub.status.idle": "2025-05-31T08:29:24.547506Z",
     "shell.execute_reply": "2025-05-31T08:29:24.546843Z"
    },
    "papermill": {
     "duration": 206.098071,
     "end_time": "2025-05-31T08:29:24.549303",
     "exception": false,
     "start_time": "2025-05-31T08:25:58.451232",
     "status": "completed"
    },
    "tags": []
   },
   "outputs": [
    {
     "name": "stdout",
     "output_type": "stream",
     "text": [
      "\n",
      "--- Starting K-Fold Cross-Validation ---\n",
      "Fold 1\n",
      "[LightGBM] [Info] Auto-choosing col-wise multi-threading, the overhead of testing was 0.051272 seconds.\n",
      "You can set `force_col_wise=true` to remove the overhead.\n",
      "[LightGBM] [Info] Total Bins 1760\n",
      "[LightGBM] [Info] Number of data points in the train set: 600000, number of used features: 16\n",
      "[LightGBM] [Info] Start training from score 4.141163\n",
      "  Fold 1 RMSLE: 0.0604\n",
      "Fold 2\n",
      "[LightGBM] [Info] Auto-choosing col-wise multi-threading, the overhead of testing was 0.087611 seconds.\n",
      "You can set `force_col_wise=true` to remove the overhead.\n",
      "[LightGBM] [Info] Total Bins 1765\n",
      "[LightGBM] [Info] Number of data points in the train set: 600000, number of used features: 16\n",
      "[LightGBM] [Info] Start training from score 4.141466\n",
      "  Fold 2 RMSLE: 0.0605\n",
      "Fold 3\n",
      "[LightGBM] [Info] Auto-choosing col-wise multi-threading, the overhead of testing was 0.047566 seconds.\n",
      "You can set `force_col_wise=true` to remove the overhead.\n",
      "[LightGBM] [Info] Total Bins 1760\n",
      "[LightGBM] [Info] Number of data points in the train set: 600000, number of used features: 16\n",
      "[LightGBM] [Info] Start training from score 4.140724\n",
      "  Fold 3 RMSLE: 0.0602\n",
      "Fold 4\n",
      "[LightGBM] [Info] Auto-choosing col-wise multi-threading, the overhead of testing was 0.046132 seconds.\n",
      "You can set `force_col_wise=true` to remove the overhead.\n",
      "[LightGBM] [Info] Total Bins 1762\n",
      "[LightGBM] [Info] Number of data points in the train set: 600000, number of used features: 16\n",
      "[LightGBM] [Info] Start training from score 4.140493\n",
      "  Fold 4 RMSLE: 0.0604\n",
      "Fold 5\n",
      "[LightGBM] [Info] Auto-choosing col-wise multi-threading, the overhead of testing was 0.045089 seconds.\n",
      "You can set `force_col_wise=true` to remove the overhead.\n",
      "[LightGBM] [Info] Total Bins 1760\n",
      "[LightGBM] [Info] Number of data points in the train set: 600000, number of used features: 16\n",
      "[LightGBM] [Info] Start training from score 4.141876\n",
      "  Fold 5 RMSLE: 0.0599\n",
      "\n",
      "Average K-Fold RMSLE: 0.0603 +/- 0.0002\n"
     ]
    }
   ],
   "source": [
    "print(\"\\n--- Starting K-Fold Cross-Validation ---\")\n",
    "fold_rmsle_scores = []\n",
    "y_transformed = np.log1p(y)\n",
    "\n",
    "for fold, (train_index, val_index) in enumerate(kf.split(X, y_transformed)):\n",
    "    print(f\"Fold {fold+1}\")\n",
    "    X_train, X_val = X.iloc[train_index], X.iloc[val_index]\n",
    "    y_train, y_val = y_transformed.iloc[train_index], y_transformed.iloc[val_index]\n",
    "    model_pipeline.fit(X_train, y_train)\n",
    "    models.append(model_pipeline)\n",
    "    val_preds_transformed = model_pipeline.predict(X_val)\n",
    "    val_preds = np.expm1(val_preds_transformed)\n",
    "    y_val_actual = np.expm1(y_val)\n",
    "    val_preds[val_preds < 0] = 0\n",
    "    fold_score = rmsle(y_val_actual, val_preds)\n",
    "    fold_rmsle_scores.append(fold_score)\n",
    "    print(f\"  Fold {fold+1} RMSLE: {fold_score:.4f}\")\n",
    "    oof_preds[val_index] = val_preds_transformed\n",
    "    test_fold_preds_transformed = model_pipeline.predict(X_test)\n",
    "    test_preds += test_fold_preds_transformed / kf.n_splits \n",
    "print(f\"\\nAverage K-Fold RMSLE: {np.mean(fold_rmsle_scores):.4f} +/- {np.std(fold_rmsle_scores):.4f}\")\n"
   ]
  },
  {
   "cell_type": "code",
   "execution_count": 19,
   "id": "97ecb231",
   "metadata": {
    "execution": {
     "iopub.execute_input": "2025-05-31T08:29:24.562769Z",
     "iopub.status.busy": "2025-05-31T08:29:24.562452Z",
     "iopub.status.idle": "2025-05-31T08:29:25.164261Z",
     "shell.execute_reply": "2025-05-31T08:29:25.163033Z"
    },
    "papermill": {
     "duration": 0.610218,
     "end_time": "2025-05-31T08:29:25.165708",
     "exception": false,
     "start_time": "2025-05-31T08:29:24.555490",
     "status": "completed"
    },
    "tags": []
   },
   "outputs": [
    {
     "name": "stdout",
     "output_type": "stream",
     "text": [
      "Overall OOF RMSLE: 0.0603\n",
      "\n",
      "Submission file 'submission.csv' created successfully!\n",
      "       id    Calories\n",
      "0  750000   27.594661\n",
      "1  750001  108.340359\n",
      "2  750002   86.662665\n",
      "3  750003  126.134795\n",
      "4  750004   76.119193\n"
     ]
    }
   ],
   "source": [
    "oof_preds_actual = np.expm1(oof_preds)\n",
    "oof_preds_actual[oof_preds_actual < 0] = 0\n",
    "overall_rmsle = rmsle(y, oof_preds_actual) # Use original y for overall RMSLE\n",
    "print(f\"Overall OOF RMSLE: {overall_rmsle:.4f}\")\n",
    "final_test_predictions = np.expm1(test_preds)\n",
    "final_test_predictions[final_test_predictions < 0] = 0\n",
    "submission_df = pd.DataFrame({'id': test_df['id'], 'Calories': final_test_predictions})\n",
    "submission_df.to_csv('submission.csv', index=False)\n",
    "print(\"\\nSubmission file 'submission.csv' created successfully!\")\n",
    "print(submission_df.head())"
   ]
  }
 ],
 "metadata": {
  "kaggle": {
   "accelerator": "none",
   "dataSources": [
    {
     "databundleVersionId": 11893428,
     "sourceId": 91716,
     "sourceType": "competition"
    }
   ],
   "dockerImageVersionId": 31040,
   "isGpuEnabled": false,
   "isInternetEnabled": true,
   "language": "python",
   "sourceType": "notebook"
  },
  "kernelspec": {
   "display_name": "Python 3",
   "language": "python",
   "name": "python3"
  },
  "language_info": {
   "codemirror_mode": {
    "name": "ipython",
    "version": 3
   },
   "file_extension": ".py",
   "mimetype": "text/x-python",
   "name": "python",
   "nbconvert_exporter": "python",
   "pygments_lexer": "ipython3",
   "version": "3.11.11"
  },
  "papermill": {
   "default_parameters": {},
   "duration": 225.491576,
   "end_time": "2025-05-31T08:29:26.193998",
   "environment_variables": {},
   "exception": null,
   "input_path": "__notebook__.ipynb",
   "output_path": "__notebook__.ipynb",
   "parameters": {},
   "start_time": "2025-05-31T08:25:40.702422",
   "version": "2.6.0"
  }
 },
 "nbformat": 4,
 "nbformat_minor": 5
}
